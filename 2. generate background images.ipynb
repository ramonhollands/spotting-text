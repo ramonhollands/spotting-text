{
 "cells": [
  {
   "cell_type": "code",
   "execution_count": null,
   "metadata": {},
   "outputs": [],
   "source": [
    "%reload_ext autoreload\n",
    "%autoreload 2\n",
    "%matplotlib inline"
   ]
  },
  {
   "cell_type": "code",
   "execution_count": 11,
   "metadata": {},
   "outputs": [],
   "source": [
    "from fastai import *\n",
    "from fastai.vision import *\n",
    "\n",
    "from PIL import Image, ImageDraw, ImageFont, ImageColor\n",
    "from random import randint"
   ]
  },
  {
   "cell_type": "code",
   "execution_count": 12,
   "metadata": {},
   "outputs": [],
   "source": [
    "path = Path('/home/nbuser/Packaging')"
   ]
  },
  {
   "cell_type": "code",
   "execution_count": null,
   "metadata": {},
   "outputs": [],
   "source": [
    "# download different types of package images\n",
    "from google_images_download import google_images_download\n",
    "data_dir = '/home/nbuser/Packaging/images-bg/original'\n",
    "nof_pics = 100\n",
    "response = google_images_download.googleimagesdownload()\n",
    "keywords = 'paracetamol 1000mg'\n",
    "\n",
    "arguments = {\"keywords\":keywords,\n",
    "             \"limit\":nof_pics,\n",
    "             \"print_urls\":False,\n",
    "             \"output_directory\":f'{data_dir}',\n",
    "             \"chromedriver\":\"/usr/local/bin/chromedriver\"}\n",
    "\n",
    "paths = response.download(arguments)"
   ]
  },
  {
   "cell_type": "code",
   "execution_count": 13,
   "metadata": {},
   "outputs": [],
   "source": [
    "# split image in random crops\n",
    "def generate_random_crops(file_path, save_path, n):\n",
    "    generated_files = []\n",
    "    try:\n",
    "        img = Image.open(file_path)\n",
    "        for i in range (0,n):\n",
    "            crop = crop_image_random(img)\n",
    "            file_name = 'background_' + str(i) + '_' + str(randint(0,10000000)) + '.jpg'\n",
    "            crop.save(str(save_path) + '/' + file_name)\n",
    "            generated_files.append(file_name)\n",
    "    except:\n",
    "        pass\n",
    "    \n",
    "    return generated_files     \n",
    "\n",
    "def crop_image_random(img):\n",
    "    x = randint(0,150)\n",
    "    y = randint(0,150)\n",
    "    crop_rectangle = (x, y, x+250, y+250)\n",
    "    img = img.crop(crop_rectangle)\n",
    "    return img"
   ]
  },
  {
   "cell_type": "code",
   "execution_count": 14,
   "metadata": {},
   "outputs": [],
   "source": [
    "# For 100 background images, take 10 crops, resulting in 1000 images for class 'background' to keep things in balance\n",
    "\n",
    "cropped_path = Path('/home/nbuser/Packaging/images-bg/cropped')\n",
    "background_path = Path('/home/nbuser/Packaging/images-bg/original')\n",
    "csv_items = []\n",
    "\n",
    "for file_name in background_path.iterdir():\n",
    "    generated = generate_random_crops(file_name, cropped_path, 10)\n",
    "    for generated_file in generated:\n",
    "        csv_items.append({'file_name': '../images-bg/cropped/'+str(generated_file), 'class_name': 'background'})\n",
    "\n",
    "#add files to exising csv\n",
    "# df = pd.DataFrame(csv_items, columns=['file_name', 'class_name'])\n",
    "# df.to_csv(path/'labels.csv', index=False)"
   ]
  },
  {
   "cell_type": "code",
   "execution_count": 15,
   "metadata": {},
   "outputs": [],
   "source": [
    "#add files to exising csv\n",
    "add_df = pd.DataFrame(csv_items, columns=['file_name', 'class_name'])\n",
    "\n",
    "df = pd.read_csv(path/'labels-fonts.csv')\n",
    "df_plus = df.append(add_df)\n",
    "\n",
    "df_plus.to_csv(path/'labels-fonts-plus-bg.csv', index=False)"
   ]
  },
  {
   "cell_type": "code",
   "execution_count": 16,
   "metadata": {},
   "outputs": [
    {
     "data": {
      "text/html": [
       "<div>\n",
       "<style scoped>\n",
       "    .dataframe tbody tr th:only-of-type {\n",
       "        vertical-align: middle;\n",
       "    }\n",
       "\n",
       "    .dataframe tbody tr th {\n",
       "        vertical-align: top;\n",
       "    }\n",
       "\n",
       "    .dataframe thead th {\n",
       "        text-align: right;\n",
       "    }\n",
       "</style>\n",
       "<table border=\"1\" class=\"dataframe\">\n",
       "  <thead>\n",
       "    <tr style=\"text-align: right;\">\n",
       "      <th></th>\n",
       "      <th>file_name</th>\n",
       "      <th>class_name</th>\n",
       "    </tr>\n",
       "  </thead>\n",
       "  <tbody>\n",
       "    <tr>\n",
       "      <th>795</th>\n",
       "      <td>../images-bg/cropped/background_5_3438801.jpg</td>\n",
       "      <td>background</td>\n",
       "    </tr>\n",
       "    <tr>\n",
       "      <th>796</th>\n",
       "      <td>../images-bg/cropped/background_6_3039696.jpg</td>\n",
       "      <td>background</td>\n",
       "    </tr>\n",
       "    <tr>\n",
       "      <th>797</th>\n",
       "      <td>../images-bg/cropped/background_7_1985428.jpg</td>\n",
       "      <td>background</td>\n",
       "    </tr>\n",
       "    <tr>\n",
       "      <th>798</th>\n",
       "      <td>../images-bg/cropped/background_8_1876350.jpg</td>\n",
       "      <td>background</td>\n",
       "    </tr>\n",
       "    <tr>\n",
       "      <th>799</th>\n",
       "      <td>../images-bg/cropped/background_9_3849551.jpg</td>\n",
       "      <td>background</td>\n",
       "    </tr>\n",
       "  </tbody>\n",
       "</table>\n",
       "</div>"
      ],
      "text/plain": [
       "                                         file_name  class_name\n",
       "795  ../images-bg/cropped/background_5_3438801.jpg  background\n",
       "796  ../images-bg/cropped/background_6_3039696.jpg  background\n",
       "797  ../images-bg/cropped/background_7_1985428.jpg  background\n",
       "798  ../images-bg/cropped/background_8_1876350.jpg  background\n",
       "799  ../images-bg/cropped/background_9_3849551.jpg  background"
      ]
     },
     "execution_count": 16,
     "metadata": {},
     "output_type": "execute_result"
    }
   ],
   "source": [
    "df_plus.tail()"
   ]
  }
 ],
 "metadata": {
  "kernelspec": {
   "display_name": "Python 3",
   "language": "python",
   "name": "python3"
  },
  "language_info": {
   "codemirror_mode": {
    "name": "ipython",
    "version": 3
   },
   "file_extension": ".py",
   "mimetype": "text/x-python",
   "name": "python",
   "nbconvert_exporter": "python",
   "pygments_lexer": "ipython3",
   "version": "3.7.0"
  }
 },
 "nbformat": 4,
 "nbformat_minor": 2
}
